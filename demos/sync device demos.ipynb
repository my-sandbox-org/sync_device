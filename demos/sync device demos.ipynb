{
 "cells": [
  {
   "cell_type": "code",
   "execution_count": 1,
   "id": "8ae3840d",
   "metadata": {
    "ExecuteTime": {
     "end_time": "2024-07-29T19:06:52.121392Z",
     "start_time": "2024-07-29T19:06:51.985753Z"
    }
   },
   "outputs": [],
   "source": [
    "from avrpy import *"
   ]
  },
  {
   "cell_type": "markdown",
   "source": [
    "## Communication logging\n",
    "\n",
    "You can log all serial port communication by setting the `log_file` argument when you connect to the AVR device."
   ],
   "metadata": {
    "collapsed": false
   }
  },
  {
   "cell_type": "code",
   "execution_count": 2,
   "outputs": [],
   "source": [
    "log_file = None                   # no logging\n",
    "log_file = 'sync_device log.txt'  # save to file\n",
    "log_file = 'print'                # print here"
   ],
   "metadata": {
    "collapsed": false,
    "ExecuteTime": {
     "end_time": "2024-07-29T19:06:52.138346800Z",
     "start_time": "2024-07-29T19:06:52.125381800Z"
    }
   }
  },
  {
   "cell_type": "code",
   "execution_count": 3,
   "id": "1dd8a303",
   "metadata": {
    "ExecuteTime": {
     "end_time": "2024-07-29T19:06:53.100219700Z",
     "start_time": "2024-07-29T19:06:52.141338400Z"
    }
   },
   "outputs": [
    {
     "name": "stdout",
     "output_type": "stream",
     "text": [
      "14:06:53 RX: Sync device is ready. Firmware version: 0.4.2\n",
      "\n"
     ]
    }
   ],
   "source": [
    "if 'avr' in globals():\n",
    "    if not avr.com.closed:\n",
    "        avr.com.close()\n",
    "avr = Mega2560(\"COM3\", log_file=log_file)"
   ]
  },
  {
   "cell_type": "markdown",
   "id": "228c581b",
   "metadata": {},
   "source": [
    "# Setup laser shutters\n",
    "`set_shutters()` sends command `L`, followed by 1 byte specifying used lasers (`0 0 0 0 Cy2 Cy3 Cy5 Cy7`), and a bool indicating whether ALEX is used.\n",
    "\n",
    "After that, you can open laser shutters using function `open_shutters()` (command `M`, no arguments), and close using `stop()` (command `Q`, no arguments)."
   ]
  },
  {
   "cell_type": "code",
   "execution_count": 4,
   "outputs": [
    {
     "name": "stdout",
     "output_type": "stream",
     "text": [
      "14:06:53 TX: b'L\\x08\\x00\\x00\\x00' -> L 8\n",
      "14:06:53 RX: OK\n",
      "\n"
     ]
    }
   ],
   "source": [
    "# only Cy7 channel\n",
    "avr.set_shutters([0, 0, 0, 1])"
   ],
   "metadata": {
    "collapsed": false,
    "ExecuteTime": {
     "end_time": "2024-07-29T19:06:53.161931200Z",
     "start_time": "2024-07-29T19:06:53.103211400Z"
    }
   }
  },
  {
   "cell_type": "code",
   "execution_count": 5,
   "outputs": [
    {
     "name": "stdout",
     "output_type": "stream",
     "text": [
      "14:06:53 TX: b'M\\x00\\x00\\x00\\x00' -> M 0\n",
      "14:06:53 RX: OK\n",
      "\n"
     ]
    }
   ],
   "source": [
    "avr.open_shutters()"
   ],
   "metadata": {
    "collapsed": false,
    "ExecuteTime": {
     "end_time": "2024-07-29T19:06:53.169911300Z",
     "start_time": "2024-07-29T19:06:53.120045200Z"
    }
   }
  },
  {
   "cell_type": "code",
   "execution_count": 6,
   "outputs": [
    {
     "name": "stdout",
     "output_type": "stream",
     "text": [
      "14:06:53 TX: b'Q\\x00\\x00\\x00\\x00' -> Q 0\n",
      "14:06:53 RX: OK\n",
      "\n"
     ]
    }
   ],
   "source": [
    "# close shutters, go back to the IDLE state\n",
    "avr.stop()"
   ],
   "metadata": {
    "collapsed": false,
    "ExecuteTime": {
     "end_time": "2024-07-29T19:06:53.169911300Z",
     "start_time": "2024-07-29T19:06:53.133010Z"
    }
   }
  },
  {
   "cell_type": "code",
   "execution_count": 7,
   "outputs": [
    {
     "name": "stdout",
     "output_type": "stream",
     "text": [
      "14:06:53 TX: b'L\\r\\x01\\x00\\x00'   -> L 269\n",
      "14:06:53 RX: OK\n",
      "\n",
      "14:06:53 TX: b'M\\x00\\x00\\x00\\x00' -> M 0\n",
      "14:06:53 RX: OK\n",
      "\n"
     ]
    }
   ],
   "source": [
    "# Cy2, Cy5, Cy7, and ALEX\n",
    "avr.set_shutters([1, 0, 1, 1], True)\n",
    "avr.open_shutters()"
   ],
   "metadata": {
    "collapsed": false,
    "ExecuteTime": {
     "end_time": "2024-07-29T19:06:53.169911300Z",
     "start_time": "2024-07-29T19:06:53.150962500Z"
    }
   }
  },
  {
   "cell_type": "code",
   "execution_count": 8,
   "outputs": [
    {
     "name": "stdout",
     "output_type": "stream",
     "text": [
      "14:06:53 TX: b'M\\x00\\x00\\x00\\x00' -> M 0\n",
      "14:06:53 RX: M: Not in the IDLE state\n",
      "\n"
     ]
    },
    {
     "ename": "SyncDeviceError",
     "evalue": "Incorrect args supplied to the sync device.\nDevice reply:\n -> M: Not in the IDLE state",
     "output_type": "error",
     "traceback": [
      "\u001B[1;31m---------------------------------------------------------------------------\u001B[0m",
      "\u001B[1;31mSyncDeviceError\u001B[0m                           Traceback (most recent call last)",
      "Cell \u001B[1;32mIn[8], line 2\u001B[0m\n\u001B[0;32m      1\u001B[0m \u001B[38;5;66;03m# This fails because shutters are already open\u001B[39;00m\n\u001B[1;32m----> 2\u001B[0m \u001B[43mavr\u001B[49m\u001B[38;5;241;43m.\u001B[39;49m\u001B[43mopen_shutters\u001B[49m\u001B[43m(\u001B[49m\u001B[43m)\u001B[49m\n",
      "File \u001B[1;32m~\\Documents\\dev\\sync_device\\avrpy\\avr_base.py:308\u001B[0m, in \u001B[0;36mAVR_Base.open_shutters\u001B[1;34m(self)\u001B[0m\n\u001B[0;32m    306\u001B[0m \u001B[38;5;28;01mdef\u001B[39;00m \u001B[38;5;21mopen_shutters\u001B[39m(\u001B[38;5;28mself\u001B[39m):\n\u001B[0;32m    307\u001B[0m \u001B[38;5;250m    \u001B[39m\u001B[38;5;124;03m\"\"\"Open laser shutters\"\"\"\u001B[39;00m\n\u001B[1;32m--> 308\u001B[0m     \u001B[38;5;28;01mwith\u001B[39;00m \u001B[38;5;28mself\u001B[39m\u001B[38;5;241m.\u001B[39mcom \u001B[38;5;28;01mas\u001B[39;00m com:\n\u001B[0;32m    309\u001B[0m         com\u001B[38;5;241m.\u001B[39mwrite(pad(\u001B[38;5;124mb\u001B[39m\u001B[38;5;124m\"\u001B[39m\u001B[38;5;124mM\u001B[39m\u001B[38;5;124m\"\u001B[39m))\n",
      "File \u001B[1;32m~\\Documents\\dev\\sync_device\\avrpy\\avr_base.py:93\u001B[0m, in \u001B[0;36mPort.__exit__\u001B[1;34m(self, *args, **kwargs)\u001B[0m\n\u001B[0;32m     91\u001B[0m \u001B[38;5;28;01mif\u001B[39;00m reply \u001B[38;5;241m==\u001B[39m \u001B[38;5;124m\"\u001B[39m\u001B[38;5;124mOK\u001B[39m\u001B[38;5;124m\"\u001B[39m:\n\u001B[0;32m     92\u001B[0m     \u001B[38;5;28;01mreturn\u001B[39;00m \u001B[38;5;28;01mTrue\u001B[39;00m\n\u001B[1;32m---> 93\u001B[0m \u001B[38;5;28;01mraise\u001B[39;00m SyncDeviceError(reply)\n",
      "\u001B[1;31mSyncDeviceError\u001B[0m: Incorrect args supplied to the sync device.\nDevice reply:\n -> M: Not in the IDLE state"
     ]
    }
   ],
   "source": [
    "# This fails because shutters are already open\n",
    "avr.open_shutters()"
   ],
   "metadata": {
    "collapsed": false,
    "ExecuteTime": {
     "end_time": "2024-07-29T19:06:53.616745300Z",
     "start_time": "2024-07-29T19:06:53.166919400Z"
    }
   }
  },
  {
   "cell_type": "markdown",
   "source": [
    "# Continuous acquisition\n",
    "\n",
    "For continuous acquisition, we need to set\n",
    "* Laser shutters, `set_shutters()`, command `L`, with at least one laser and  `ALEX=False`.\n",
    "* Laser exposure time, `exp_time_us`, command `E`.\n",
    "* Camera read-out interval, `cam_readout_us`, command `I` (important only if using ROI and imaging faster than 12ms). Note that it also defines the duration of the first discard frame.\n",
    "* Number of frames - argument of `start_continuous`, command `C`, which starts continuous acquisition."
   ],
   "metadata": {
    "collapsed": false
   }
  },
  {
   "cell_type": "code",
   "execution_count": 9,
   "outputs": [
    {
     "name": "stdout",
     "output_type": "stream",
     "text": [
      "14:07:03 TX: b'Q\\x00\\x00\\x00\\x00' -> Q 0\n",
      "14:07:03 RX: OK\n",
      "\n",
      "14:07:03 TX: b'L\\x0b\\x00\\x00\\x00' -> L 11\n",
      "14:07:03 RX: OK\n",
      "\n",
      "14:07:03 TX: b'EH\\xe8\\x01\\x00'    -> E 125000\n",
      "14:07:03 RX: OK\n",
      "\n",
      "14:07:03 TX: b'I\\xc4\\t\\x00\\x00'   -> I 2500\n",
      "14:07:03 RX: OK\n",
      "\n"
     ]
    }
   ],
   "source": [
    "avr.stop()\n",
    "# Cy2, Cy3, Cy7\n",
    "avr.set_shutters([1, 1, 0, 1])\n",
    "avr.exp_time_us = 125_000       # 125 ms\n",
    "avr.cam_readout_us = 2_500      # 2.5 ms camera read-out time"
   ],
   "metadata": {
    "collapsed": false,
    "ExecuteTime": {
     "end_time": "2024-07-29T19:07:03.606294400Z",
     "start_time": "2024-07-29T19:07:03.547424300Z"
    }
   }
  },
  {
   "cell_type": "code",
   "execution_count": 10,
   "id": "d93902d7",
   "metadata": {
    "ExecuteTime": {
     "end_time": "2024-07-29T19:07:04.333133600Z",
     "start_time": "2024-07-29T19:07:04.313186700Z"
    }
   },
   "outputs": [
    {
     "name": "stdout",
     "output_type": "stream",
     "text": [
      "14:07:04 TX: b'C(\\x00\\x00\\x00'    -> C 40\n",
      "14:07:04 RX: OK\n",
      "\n"
     ]
    }
   ],
   "source": [
    "# Acquire 20 frames\n",
    "avr.start_continuous(40)"
   ]
  },
  {
   "cell_type": "markdown",
   "id": "d64a7a9b",
   "metadata": {},
   "source": [
    "# Setup stroboscopic time-lapse acquisition\n",
    "\n",
    "For time-lapse, there are two separate time periods: the laser exposure time, defined as the duration of the open shutter, and the frame period - time period between two subsequent frames. The latter one is set using `acq_period_us`, command `A`. After that, start imaging using `start_stroboscopic()`, command `S`, and provide number of frames as argument."
   ]
  },
  {
   "cell_type": "code",
   "execution_count": 11,
   "outputs": [
    {
     "name": "stdout",
     "output_type": "stream",
     "text": [
      "14:07:05 TX: b'A\\x80\\x84\\x1e\\x00' -> A 2000000\n",
      "14:07:05 RX: OK\n",
      "\n",
      "14:07:05 TX: b'E\\x80\\x1a\\x06\\x00' -> E 400000\n",
      "14:07:05 RX: OK\n",
      "\n",
      "14:07:05 TX: b'S\\x06\\x00\\x00\\x00' -> S 6\n",
      "14:07:05 RX: OK\n",
      "\n"
     ]
    }
   ],
   "source": [
    "# Laser exposure of 400ms, time-lapse every 2 s\n",
    "avr.acq_period_us = 2000_000\n",
    "avr.exp_time_us = 400_000\n",
    "# Acquire 6 frames\n",
    "avr.start_stroboscopic(6)"
   ],
   "metadata": {
    "collapsed": false,
    "ExecuteTime": {
     "end_time": "2024-07-29T19:07:05.172496300Z",
     "start_time": "2024-07-29T19:07:05.153547600Z"
    }
   }
  },
  {
   "cell_type": "markdown",
   "id": "bd8c7184",
   "metadata": {},
   "source": [
    "# Setup stroboscopic ALEX acquisition\n",
    "This is done the same way as time-lapse, except that you need to activate ALEX when setting laser shutters."
   ]
  },
  {
   "cell_type": "code",
   "execution_count": 12,
   "id": "8609f351",
   "metadata": {
    "ExecuteTime": {
     "end_time": "2024-07-29T19:07:06.717574Z",
     "start_time": "2024-07-29T19:07:06.704581300Z"
    }
   },
   "outputs": [
    {
     "name": "stdout",
     "output_type": "stream",
     "text": [
      "14:07:06 TX: b'L\\x0e\\x01\\x00\\x00' -> L 270\n",
      "14:07:06 RX: OK\n",
      "\n",
      "14:07:06 TX: b'S\\x06\\x00\\x00\\x00' -> S 6\n",
      "14:07:06 RX: OK\n",
      "\n"
     ]
    }
   ],
   "source": [
    "# Acquire 6 frames with alternating Cy3/Cy5/Cy7\n",
    "avr.set_shutters([0, 1, 1, 1], ALEX=True)\n",
    "avr.start_stroboscopic(6)"
   ]
  },
  {
   "cell_type": "markdown",
   "source": [
    "Note that you MUST ensure that the cycle duration is long enough to alternate between the lasers, otherwise the device might skip frames. Make sure that for $N$ spectral channels, the cycle duration is at least $N*(e + r + s)$, where $e$ is the camera exposure time, $r$ is the camera read-out time, and $s$ is the shutter delay."
   ],
   "metadata": {
    "collapsed": false
   }
  },
  {
   "cell_type": "code",
   "execution_count": 13,
   "outputs": [
    {
     "name": "stdout",
     "output_type": "stream",
     "text": [
      "14:07:07 TX: b'L\\x0f\\x01\\x00\\x00' -> L 271\n",
      "14:07:07 RX: OK\n",
      "\n",
      "14:07:07 TX: b'E\\x80\\x1a\\x06\\x00' -> E 400000\n",
      "14:07:07 RX: OK\n",
      "\n",
      "14:07:07 TX: b'I@\\r\\x03\\x00'      -> I 200000\n",
      "14:07:07 RX: OK\n",
      "\n",
      "14:07:07 TX: b'D\\xd0\\x07\\x00\\x00' -> D 2000\n",
      "14:07:07 RX: OK\n",
      "\n",
      "14:07:07 TX: b'A@\\xbe$\\x00'       -> A 2408000\n",
      "14:07:07 RX: OK\n",
      "\n",
      "14:07:07 TX: b'S\\x05\\x00\\x00\\x00' -> S 5\n",
      "14:07:07 RX: OK\n",
      "\n"
     ]
    }
   ],
   "source": [
    "# Acquire 5 frames with alternating Cy2/Cy3/Cy5/Cy7, 200 ms exposure, as fast as possible\n",
    "\n",
    "# We have a SLOW CAMERA with 200 ms read-out time\n",
    "shutters = [1, 1, 1, 1]\n",
    "N = shutters.count(1)\n",
    "avr.set_shutters(shutters, ALEX=True)\n",
    "\n",
    "e, r, s = 400_000, 200_000, 2_000  # exposure, read-out, and shutter delay times\n",
    "\n",
    "avr.exp_time_us = e\n",
    "avr.cam_readout_us = r\n",
    "avr.shutter_delay_us = s\n",
    "avr.acq_period_us = N*(e + r + s)\n",
    "\n",
    "avr.start_stroboscopic(5)"
   ],
   "metadata": {
    "collapsed": false,
    "ExecuteTime": {
     "end_time": "2024-07-29T19:07:07.914503Z",
     "start_time": "2024-07-29T19:07:07.874005700Z"
    }
   }
  },
  {
   "cell_type": "code",
   "execution_count": 14,
   "outputs": [
    {
     "name": "stdout",
     "output_type": "stream",
     "text": [
      "14:07:08 TX: b'A\\x00j\\x18\\x00'    -> A 1600000\n",
      "14:07:08 RX: OK\n",
      "\n",
      "14:07:08 TX: b'S\\x03\\x00\\x00\\x00' -> S 3\n",
      "14:07:08 RX: OK\n",
      "\n"
     ]
    }
   ],
   "source": [
    "# Example with skipped frames where the acqusition period is not long enough\n",
    "avr.acq_period_us = N*avr.exp_time_us\n",
    "avr.start_stroboscopic(3)"
   ],
   "metadata": {
    "collapsed": false,
    "ExecuteTime": {
     "end_time": "2024-07-29T19:07:08.539709200Z",
     "start_time": "2024-07-29T19:07:08.521446900Z"
    }
   }
  },
  {
   "cell_type": "markdown",
   "source": [
    "# ALEX and time-lapse\n",
    "By setting `acq_period_us` to be extra long, we combine ALEX and time-lapse imaging."
   ],
   "metadata": {
    "collapsed": false
   }
  },
  {
   "cell_type": "code",
   "execution_count": 15,
   "outputs": [
    {
     "name": "stdout",
     "output_type": "stream",
     "text": [
      "14:07:10 TX: b'A\\xc0BC\\x00'       -> A 4408000\n",
      "14:07:10 RX: OK\n",
      "\n",
      "4 channels, 400.0 ms exposure time per channel, every 4.408 s\n",
      "14:07:10 TX: b'S\\x05\\x00\\x00\\x00' -> S 5\n",
      "14:07:10 RX: OK\n",
      "\n"
     ]
    }
   ],
   "source": [
    "avr.acq_period_us = N*(e + r + s) + 2_000_000\n",
    "print(f\"{N} channels, {avr.exp_time_us/1000} ms exposure time per channel, every {avr.acq_period_us/1e6} s\")\n",
    "avr.start_stroboscopic(5)"
   ],
   "metadata": {
    "collapsed": false,
    "ExecuteTime": {
     "end_time": "2024-07-29T19:07:10.422434800Z",
     "start_time": "2024-07-29T19:07:10.373565400Z"
    }
   }
  },
  {
   "cell_type": "code",
   "execution_count": 16,
   "outputs": [
    {
     "name": "stdout",
     "output_type": "stream",
     "text": [
      "14:07:10 TX: b'L\\x0f\\x01\\x00\\x00' -> L 271\n",
      "14:07:10 RX: OK\n",
      "\n",
      "14:07:10 TX: b'E\\xa0\\x0f\\x00\\x00' -> E 4000\n",
      "14:07:10 RX: OK\n",
      "\n",
      "14:07:10 TX: b'I\\xd0\\x07\\x00\\x00' -> I 2000\n",
      "14:07:10 RX: OK\n",
      "\n",
      "14:07:10 TX: b'D\\xe8\\x03\\x00\\x00' -> D 1000\n",
      "14:07:10 RX: OK\n",
      "\n",
      "14:07:10 TX: b'AP\\xc3\\x00\\x00'    -> A 50000\n",
      "14:07:10 RX: OK\n",
      "\n",
      "14:07:10 TX: b'Sd\\x00\\x00\\x00'    -> S 100\n",
      "14:07:10 RX: OK\n",
      "\n"
     ]
    }
   ],
   "source": [
    "# Fast example\n",
    "# Acquire 100 frames with fast alternating Cy2/Cy3/Cy5/Cy7, 4 ms exposure, burst every 50 ms\n",
    "\n",
    "avr.set_shutters([1, 1, 1, 1], ALEX=True)\n",
    "\n",
    "avr.exp_time_us = 4_000\n",
    "avr.cam_readout_us = 2_000\n",
    "avr.shutter_delay_us = 1_000\n",
    "avr.acq_period_us = 50_000\n",
    "\n",
    "avr.start_stroboscopic(100)"
   ],
   "metadata": {
    "collapsed": false,
    "ExecuteTime": {
     "end_time": "2024-07-29T19:07:11.000740100Z",
     "start_time": "2024-07-29T19:07:10.947853300Z"
    }
   }
  },
  {
   "cell_type": "markdown",
   "source": [
    "# Device status\n",
    "Currently, we don't have any mechanism to ask the device about the status of the acquisition. However, it sends \"DONE\" back when the acquisition is completed."
   ],
   "metadata": {
    "collapsed": false
   }
  },
  {
   "cell_type": "code",
   "execution_count": 17,
   "outputs": [
    {
     "data": {
      "text/plain": "b'DONE\\n'"
     },
     "execution_count": 17,
     "metadata": {},
     "output_type": "execute_result"
    }
   ],
   "source": [
    "avr.com.read_all()"
   ],
   "metadata": {
    "collapsed": false,
    "ExecuteTime": {
     "end_time": "2024-07-29T19:07:17.168068400Z",
     "start_time": "2024-07-29T19:07:17.150115300Z"
    }
   }
  }
 ],
 "metadata": {
  "kernelspec": {
   "display_name": "Python 3 (ipykernel)",
   "language": "python",
   "name": "python3"
  },
  "language_info": {
   "codemirror_mode": {
    "name": "ipython",
    "version": 3
   },
   "file_extension": ".py",
   "mimetype": "text/x-python",
   "name": "python",
   "nbconvert_exporter": "python",
   "pygments_lexer": "ipython3",
   "version": "3.10.5"
  }
 },
 "nbformat": 4,
 "nbformat_minor": 5
}
